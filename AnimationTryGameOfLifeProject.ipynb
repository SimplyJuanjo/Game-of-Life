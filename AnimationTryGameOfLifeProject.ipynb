{
  "nbformat": 4,
  "nbformat_minor": 0,
  "metadata": {
    "colab": {
      "name": "GameOfLifeProject.ipynb",
      "provenance": [],
      "authorship_tag": "ABX9TyMCxlUYUD+1LhrdD7NRf4MI",
      "include_colab_link": true
    },
    "kernelspec": {
      "name": "python3",
      "display_name": "Python 3"
    },
    "language_info": {
      "name": "python"
    }
  },
  "cells": [
    {
      "cell_type": "markdown",
      "metadata": {
        "id": "view-in-github",
        "colab_type": "text"
      },
      "source": [
        "<a href=\"https://colab.research.google.com/github/SimplyJuanjo/Game-of-Life/blob/main/AnimationTryGameOfLifeProject.ipynb\" target=\"_parent\"><img src=\"https://colab.research.google.com/assets/colab-badge.svg\" alt=\"Open In Colab\"/></a>"
      ]
    },
    {
      "cell_type": "code",
      "metadata": {
        "id": "AmXPY0hSkK_Y"
      },
      "source": [
        "#ThirdProject: Let's sum up all I have learned this 2 weeks into a classy project: Game Of Life \n",
        "\n",
        "#Input information from Wiki:\n",
        "#The universe of the Game of Life is an infinite, two-dimensional orthogonal grid of square cells, each of which is in one of two possible states, live or dead, \n",
        "# (or populated and unpopulated, respectively). Every cell interacts with its eight neighbours, which are the cells that are horizontally, vertically, or diagonally \n",
        "# adjacent. At each step in time, the following transitions occur:\n",
        "\n",
        "  # - Any live cell with fewer than two live neighbours dies, as if by underpopulation.\n",
        "  # - Any live cell with two or three live neighbours lives on to the next generation.\n",
        "  # - Any live cell with more than three live neighbours dies, as if by overpopulation.\n",
        "  # - Any dead cell with exactly three live neighbours becomes a live cell, as if by reproduction.\n",
        "\n",
        "#To sum:\n",
        "\n",
        "  # - Any live cell with two or three live neighbours survives.\n",
        "  # - Any dead cell with three live neighbours becomes a live cell.\n",
        "  # - All other live cells die in the next generation. Similarly, all other dead cells stay dead."
      ],
      "execution_count": 140,
      "outputs": []
    },
    {
      "cell_type": "code",
      "metadata": {
        "id": "eZv4FBOumdx6"
      },
      "source": [
        "#Intuition: I suppose I'll be needing a matrix of 0s and 1s to perfom the logic, and then some other module to transform the arrays into square cells dead(0) or alive (1)\n",
        "#First I'll try module numpy for matrix manipulation\n",
        "#Then I'll search the other module for visualization : matplotlib\n",
        "\n",
        "#Func I'll need:\n",
        "    # - Checking nearby cells (implemented)\n",
        "    # - Updating next gen (implemented)\n",
        "    # - Show actual gen (implemented)\n",
        "    # - Func for 1 life cycle (implemented)\n",
        "    # - Func for nth iterations (implemented)\n"
      ],
      "execution_count": 141,
      "outputs": []
    },
    {
      "cell_type": "code",
      "metadata": {
        "colab": {
          "base_uri": "https://localhost:8080/"
        },
        "id": "QP9Ay5khqSCK",
        "outputId": "87490723-3ff9-4a16-c380-bbd08471d75c"
      },
      "source": [
        "import numpy as np\n",
        "import matplotlib.pyplot as plt\n",
        "\n",
        "#Playing with np and random\n",
        "rng = np.random.default_rng()\n",
        "testM = np.zeros((16,16))\n",
        "\n",
        "print(testM) #Bien, tenemos un marco jeje, ahora toca averiguar como pasarlo a gráficos\n",
        "\n",
        "testMR = np.zeros((16,16))\n",
        "testMR = rng.integers(2, size = (16,16))\n",
        "\n",
        "print(testMR)"
      ],
      "execution_count": 142,
      "outputs": [
        {
          "output_type": "stream",
          "name": "stdout",
          "text": [
            "[[0. 0. 0. 0. 0. 0. 0. 0. 0. 0. 0. 0. 0. 0. 0. 0.]\n",
            " [0. 0. 0. 0. 0. 0. 0. 0. 0. 0. 0. 0. 0. 0. 0. 0.]\n",
            " [0. 0. 0. 0. 0. 0. 0. 0. 0. 0. 0. 0. 0. 0. 0. 0.]\n",
            " [0. 0. 0. 0. 0. 0. 0. 0. 0. 0. 0. 0. 0. 0. 0. 0.]\n",
            " [0. 0. 0. 0. 0. 0. 0. 0. 0. 0. 0. 0. 0. 0. 0. 0.]\n",
            " [0. 0. 0. 0. 0. 0. 0. 0. 0. 0. 0. 0. 0. 0. 0. 0.]\n",
            " [0. 0. 0. 0. 0. 0. 0. 0. 0. 0. 0. 0. 0. 0. 0. 0.]\n",
            " [0. 0. 0. 0. 0. 0. 0. 0. 0. 0. 0. 0. 0. 0. 0. 0.]\n",
            " [0. 0. 0. 0. 0. 0. 0. 0. 0. 0. 0. 0. 0. 0. 0. 0.]\n",
            " [0. 0. 0. 0. 0. 0. 0. 0. 0. 0. 0. 0. 0. 0. 0. 0.]\n",
            " [0. 0. 0. 0. 0. 0. 0. 0. 0. 0. 0. 0. 0. 0. 0. 0.]\n",
            " [0. 0. 0. 0. 0. 0. 0. 0. 0. 0. 0. 0. 0. 0. 0. 0.]\n",
            " [0. 0. 0. 0. 0. 0. 0. 0. 0. 0. 0. 0. 0. 0. 0. 0.]\n",
            " [0. 0. 0. 0. 0. 0. 0. 0. 0. 0. 0. 0. 0. 0. 0. 0.]\n",
            " [0. 0. 0. 0. 0. 0. 0. 0. 0. 0. 0. 0. 0. 0. 0. 0.]\n",
            " [0. 0. 0. 0. 0. 0. 0. 0. 0. 0. 0. 0. 0. 0. 0. 0.]]\n",
            "[[0 0 0 0 0 0 0 0 1 1 0 1 0 1 1 1]\n",
            " [1 1 0 1 0 1 1 1 0 1 0 1 0 1 1 1]\n",
            " [0 1 1 0 1 0 1 0 0 1 1 1 1 0 0 1]\n",
            " [0 0 1 1 0 1 1 0 0 1 0 0 1 1 1 1]\n",
            " [0 0 1 0 0 0 1 1 1 0 1 1 0 0 1 0]\n",
            " [1 0 1 0 0 1 0 1 0 0 0 1 0 0 1 0]\n",
            " [0 1 1 0 1 1 1 1 1 1 0 0 1 1 1 1]\n",
            " [1 0 0 0 0 0 0 0 0 1 1 1 1 0 1 1]\n",
            " [1 1 1 1 1 1 0 0 0 1 0 0 0 1 0 0]\n",
            " [1 0 0 1 1 0 1 1 1 1 0 1 0 1 0 0]\n",
            " [1 1 1 0 0 0 0 0 1 1 1 0 1 1 0 1]\n",
            " [0 0 0 0 0 0 0 0 1 0 1 0 0 0 0 1]\n",
            " [1 0 1 1 0 0 0 1 1 0 0 0 0 1 0 1]\n",
            " [1 0 1 0 1 0 0 1 0 1 0 0 1 0 0 1]\n",
            " [0 1 0 1 0 1 0 1 0 0 1 1 0 0 0 1]\n",
            " [1 1 1 1 1 1 0 0 1 0 0 1 1 1 1 0]]\n"
          ]
        }
      ]
    },
    {
      "cell_type": "code",
      "metadata": {
        "id": "23ZvKiWBMSEa"
      },
      "source": [
        "#Func for check the surrounding cells and output their total value\n",
        "def checkCells(A):\n",
        "  n, m = A.shape\n",
        "  B = np.zeros((n,m))\n",
        "  for i in range(n):\n",
        "    for j in range(m):\n",
        "      tempSum = 0\n",
        "      try:\n",
        "        if A[i-1,j-1] == 1:\n",
        "          tempSum += 1\n",
        "      except:\n",
        "        pass\n",
        "      try:\n",
        "        if A[i,j-1] == 1:\n",
        "          tempSum += 1\n",
        "      except:\n",
        "        pass\n",
        "      try:\n",
        "        if A[i+1,j-1] == 1:\n",
        "          tempSum += 1\n",
        "      except:\n",
        "        pass\n",
        "      try:\n",
        "        if A[i-1,j] == 1:\n",
        "          tempSum += 1\n",
        "      except:\n",
        "        pass\n",
        "#      try:\n",
        "#       if A[i,j] == 1:           Old error, do not count the self cell\n",
        "#         tempSum += 1\n",
        "#     except:\n",
        "#       pass\n",
        "      try:\n",
        "        if A[i+1,j] == 1:\n",
        "          tempSum += 1\n",
        "      except:\n",
        "        pass\n",
        "      try:\n",
        "        if A[i-1,j+1] == 1:\n",
        "          tempSum += 1\n",
        "      except:\n",
        "        pass\n",
        "      try:\n",
        "        if A[i,j+1] == 1:\n",
        "          tempSum += 1\n",
        "      except:\n",
        "        pass\n",
        "      try:\n",
        "        if A[i+1,j+1] == 1:\n",
        "          tempSum += 1\n",
        "      except:\n",
        "        pass\n",
        "      B[i,j] = tempSum\n",
        "  return B"
      ],
      "execution_count": 143,
      "outputs": []
    },
    {
      "cell_type": "code",
      "metadata": {
        "id": "JNY5IXJfUQm5"
      },
      "source": [
        "#Func for updating next generation of A based on B value:\n",
        "def nextGen(A,B):\n",
        "  n, m = A.shape\n",
        "  for i in range(n):\n",
        "    for j in range(m):\n",
        "      if A[i,j] == 1 and (B[i,j] == 2 or B[i,j] == 3):\n",
        "        A[i,j] = 1\n",
        "      elif A[i,j] == 0 and B[i,j] == 3:\n",
        "        A[i,j] = 1\n",
        "      else:\n",
        "        A[i,j] = 0\n",
        "  \n",
        "  return A"
      ],
      "execution_count": 144,
      "outputs": []
    },
    {
      "cell_type": "code",
      "metadata": {
        "id": "dLvsLTxHtjUW"
      },
      "source": [
        "#Func for showing the actual generation of cells in A\n",
        "def showGen(A):\n",
        "  #plt.figure(figsize=(3,3))\n",
        "  plt.imshow(A)#, aspect=\"auto\")\n",
        "  plt.axis(\"off\")\n",
        "  plt.pause(0.001)\n",
        "  #Ahora apenas usaremos esto más que una vez al init"
      ],
      "execution_count": 145,
      "outputs": []
    },
    {
      "cell_type": "code",
      "metadata": {
        "id": "JOzq_wNWamvO"
      },
      "source": [
        "#Func for basic lifeCycle:\n",
        "def lifeCycle(A):\n",
        "  B = checkCells(A)\n",
        "  A = nextGen(A,B) \n",
        "  #showGen(A)           #Vamos a crear animation so prescindimos de esto por un rato lo usaremos para testing solo\n",
        "  \n",
        "  return A"
      ],
      "execution_count": 150,
      "outputs": []
    },
    {
      "cell_type": "code",
      "metadata": {
        "id": "aZKVAB9RcFvr"
      },
      "source": [
        "#Func for nth iterations:\n",
        "def iterCycle(nIter,A):\n",
        "  AList = [A]\n",
        "\n",
        "  for iter in range(nIter):\n",
        "    \n",
        "    Achange = lifeCycle(A)\n",
        "    AList.append(Achange)\n",
        "    A = Achange\n",
        "\n",
        "  return AList"
      ],
      "execution_count": 147,
      "outputs": []
    },
    {
      "cell_type": "code",
      "metadata": {
        "id": "TAIXnBOWYwFY"
      },
      "source": [
        "#Define 1st matrix:\n",
        "def init():\n",
        "  A = np.zeros((50,50))\n",
        "  #Insert init value for 1st gen blueprint\n",
        "  A[7,4] = 1\n",
        "  A[8,4] = 1\n",
        "  A[7,5] = 1\n",
        "  A[8,5] = 1\n",
        "\n",
        "  A[5,38] = 1\n",
        "  A[6,38] = 1\n",
        "  A[5,39] = 1\n",
        "  A[6,39] = 1\n",
        "\n",
        "  A[3,28] = 1\n",
        "  A[4,28] = 1\n",
        "  A[8,28] = 1\n",
        "  A[9,28] = 1\n",
        "  A[4,26] = 1\n",
        "  A[8,26] = 1\n",
        "\n",
        "  A[5,25] = 1\n",
        "  A[6,25] = 1\n",
        "  A[7,25] = 1\n",
        "  A[5,24] = 1\n",
        "  A[6,24] = 1\n",
        "  A[7,24] = 1\n",
        "\n",
        "  A[8,21] = 1\n",
        "  A[7,20] = 1\n",
        "  A[8,20] = 1\n",
        "  A[9,20] = 1\n",
        "  A[6,19] = 1\n",
        "  A[10,19] = 1\n",
        "  A[8,18] = 1\n",
        "\n",
        "  A[5,17] = 1\n",
        "  A[5,16] = 1\n",
        "  A[11,16] = 1\n",
        "  A[11,17] = 1\n",
        "\n",
        "  A[6,15] = 1\n",
        "  A[7,14] = 1\n",
        "  A[8,14] = 1\n",
        "  A[9,14] = 1\n",
        "  A[10,15] = 1\n",
        "\n",
        "  A[15,3] = 1\n",
        "  A[16,4] = 1\n",
        "  A[17,4] = 1\n",
        "  A[17,3] = 1\n",
        "  A[17,2] = 1\n",
        "\n",
        "  A[40,10] = 1\n",
        "  A[40,11] = 1\n",
        "  A[40,12] = 1\n",
        "\n",
        "  showGen(A)\n"
      ],
      "execution_count": 151,
      "outputs": []
    },
    {
      "cell_type": "code",
      "metadata": {
        "colab": {
          "base_uri": "https://localhost:8080/",
          "height": 611
        },
        "id": "gxRJWVK0qkRX",
        "outputId": "9e166750-3b87-4228-c4b5-6e57ca46dcf6"
      },
      "source": [
        "#Animation:\n",
        "from matplotlib import animation, rc\n",
        "rc('animation', html='html5')\n",
        "\n",
        "def update(i):\n",
        "  ax.clear()\n",
        "  ax.imshow(AList[i])\n",
        "  ax.axis('off')\n",
        "  return ax\n",
        "\n",
        "\n",
        "init()\n",
        "#Set iteration cycles and run\n",
        "nIter = 100\n",
        "AList = iterCycle(nIter, A)\n",
        "fig = plt.figure(figsize=(5,5))\n",
        "ax = plt.subplot(1,1,1)\n",
        "anim = animation.FuncAnimation(fig, update, frames=len(AList), interval = 100)\n",
        "plt.close()\n",
        "\n",
        "anim"
      ],
      "execution_count": 154,
      "outputs": [
        {
          "output_type": "display_data",
          "data": {
            "image/png": "[encoded data removed]",
            "text/plain": [
              "<Figure size 432x288 with 1 Axes>"
            ]
          },
          "metadata": {
            "needs_background": "light"
          }
        },
        {
          "output_type": "execute_result",
          "data": {
            "text/html": [
              "<video width=\"360\" height=\"360\" controls autoplay loop>\n",
              "  <source type=\"video/mp4\" src=\"data:video/mp4;base64,AAAAHGZ0eXBNNFYgAAACAGlzb21pc28yYXZjMQAAAAhmcmVlAAAT9W1kYXQAAAKuBgX//6rcRem9\n",
              "5tlIt5Ys2CDZI+7veDI2NCAtIGNvcmUgMTUyIHIyODU0IGU5YTU5MDMgLSBILjI2NC9NUEVHLTQg\n",
              "QVZDIGNvZGVjIC0gQ29weWxlZnQgMjAwMy0yMDE3IC0gaHR0cDovL3d3dy52aWRlb2xhbi5vcmcv\n",
              "eDI2NC5odG1sIC0gb3B0aW9uczogY2FiYWM9MSByZWY9MyBkZWJsb2NrPTE6MDowIGFuYWx5c2U9\n",
              "MHgzOjB4MTEzIG1lPWhleCBzdWJtZT03IHBzeT0xIHBzeV9yZD0xLjAwOjAuMDAgbWl4ZWRfcmVm\n",
              "PTEgbWVfcmFuZ2U9MTYgY2hyb21hX21lPTEgdHJlbGxpcz0xIDh4OGRjdD0xIGNxbT0wIGRlYWR6\n",
              "b25lPTIxLDExIGZhc3RfcHNraXA9MSBjaHJvbWFfcXBfb2Zmc2V0PS0yIHRocmVhZHM9MyBsb29r\n",
              "YWhlYWRfdGhyZWFkcz0xIHNsaWNlZF90aHJlYWRzPTAgbnI9MCBkZWNpbWF0ZT0xIGludGVybGFj\n",
              "ZWQ9MCBibHVyYXlfY29tcGF0PTAgY29uc3RyYWluZWRfaW50cmE9MCBiZnJhbWVzPTMgYl9weXJh\n",
              "bWlkPTIgYl9hZGFwdD0xIGJfYmlhcz0wIGRpcmVjdD0xIHdlaWdodGI9MSBvcGVuX2dvcD0wIHdl\n",
              "aWdodHA9MiBrZXlpbnQ9MjUwIGtleWludF9taW49MTAgc2NlbmVjdXQ9NDAgaW50cmFfcmVmcmVz\n",
              "aD0wIHJjX2xvb2thaGVhZD00MCByYz1jcmYgbWJ0cmVlPTEgY3JmPTIzLjAgcWNvbXA9MC42MCBx\n",
              "cG1pbj0wIHFwbWF4PTY5IHFwc3RlcD00IGlwX3JhdGlvPTEuNDAgYXE9MToxLjAwAIAAAAmVZYiE\n",
              "ABH//veIHzLLafk613IR560urR9Q7kZxXqS9/iAAAJI9POeSOYQRNvSADPqc/YPD1wgCaLfdTlyT\n",
              "QgOVJuylW3NrosVLGWPrRunx68P4Xb3zn9ltaTc1RoZvGbB9hmsS1dX3Vg6d2EZPTyz1J6P5wSaf\n",
              "2QIK2J5rqs4SSR4Wj6ZkhBm2bBh/6po3gkBcYQuZVPKyzbFXq3G8085FHqiECUtoLfiHJl09DEad\n",
              "pKfokUOz/7WlKVRL/+uu6Q2XoDd0xiikIOSGMgZ5W9KwafoOKxTdd+S2HnYoMBxpNSEU6EzeAeR+\n",
              "QJuAA//yIkDUi1fPaQbmwhUu5K+uTg+1xKJAcgNZG8t2LxTUPKC8d7GoD+AvDXN+kr/B/5FU5zU4\n",
              "uHJ2aqm8hlRyVwo1C0X6+/0mLX5XdUMZh+LOiCwXuI4q5k5/3jIh4+2goT19r01vV1P/+AJBHwGY\n",
              "qC51Xsvo/5eUnxUJ9y1kJO41WoUBUdBoohP/A0pqXsS37FmLKX5ZGoryvZSm+dAYuiynd80f2kpV\n",
              "Zew8S6+eIZUWZjTFj0T7ATJt54F8A8FrIfzHdkqfs4BQaOmnStfzGn+doH362jMWGH2bWeKQzrLs\n",
              "SNEJ5VhoqRWetWb0TS59CdUiw6SYPdc7rENFBO+0MVSo4BLGduqP4ti3O8vNZ9GSwBbAvRDFG0YY\n",
              "6nwQxpV4UBEiWX4wqrUvxzDoL48oCKCx/37wRDGpU8f5n8A4DzLmcDoZataYRV+CVPaUhn1S6yJ6\n",
              "sku+TxPPmbym8y6MIfy/b1HH/KbfsT1CX5GsbfCUDJuNFWUvYrznWzpTGclm9bmxdapAOZSh1oln\n",
              "FcUUlyRd7v1ttARUSkzZk7+hvpfR8WsUxhf+n3Ib1dGCbDw7DTcUcIqHfnJvGPeWKR3oW69B2sqb\n",
              "RZnf0ki6MAvDYU+OHjTs6piHYdiCXRcycLRS96lcdRVnHXM47GTUOrd/6ow/ce79BD4YPqxLP/0r\n",
              "LaCG8bjeLsS4Bf+vacYEjiNCQMlpJCp2R8N5tA9HRWVG2MZCahL2uvaLKGa8oRJMr+qw8qPdfB6U\n",
              "Q5mI2U95G0bThDpFOGRjasOd6KsYCeDHUxbkkKjGK7itOV3FZSqRaoXY/COIiwB9e0yIt4FuHOMW\n",
              "E8+3ttyy+TOOgTOZMY6HpR0W8nFASSzL4/Z4glAdrk5Q93zsnHsud+9Yu2udN9Xk0Ihh/9qYMQB+\n",
              "JxXM8oAN7XX3lUbNsf1Mt2zjauS9twWb5X4tVnSpBX7qNoW7iuzTcgPiHwY8FOJ5DFmfR6u9SUco\n",
              "jODYQuRM77x6xREmpeSIm2laE/waCcKMOe6/T31U52UjBw392Lz/32vRaN6kVNhW669vagHhzBVw\n",
              "B8kaR7lFQ+cgAIifms2fmoJ3RNac51GBu4+nv/S/Cxj93TJsY9pA/sJDEFdpRETXBKn4tKHrfqfe\n",
              "5lz61VjeqRoh0FQWAf39u+PRgbYFdHavCXjadqw9zwrBbexhB4Am2hDFa0QJ56QaFoF0z2zy/JuS\n",
              "KD/bGczB1rxZKlcDZzLRZMsWb9nKPNDomdY5yAM7e1urqYaWHwBxHbV4ks7nGSKc1DK/V3tcr6pI\n",
              "jGcoTQqZkP53vsJ7Lkg837ttnX/JTrVH55eBuhVc2D20GqlF6gbWnOS0wLnYOAJ9JBbqvTB+99Lv\n",
              "tal4YJ+BH3bsac0QRqt5fyRXeIluCuVXH6dWoFg17RFVldzC/J79P0DoXtDXsu7S6ITmNAmWFQm4\n",
              "/EFStNjNWMRtCtCsjg/DQRJAZBBnMHa0SflwSWezhleZEq18km6USs27HCH5G12V7UNObddSpu24\n",
              "pW3qYMam2f1FxpJShD49ziPc+CsQM5rzmNs+SMlLASamDEu0wNPK0DIjFmtiyjMtLic+vmqZB+gH\n",
              "5GuV9+G5p5Yze4diG9NZWEUQE9wyM/U++e8YgWHKeSBp2NurUshmPviTHIg12ZXiECrBmTISnsxz\n",
              "xqll5wGKJzkSxrnLfqGBPdgSEMaRGnI5GO8fbSHI3KREjRkQujFaJYaRTlqJaKcrEGFZHuyyk3Fw\n",
              "91AAEpeorfBwAipAkMHfEH8h7K5k3/oTjYimKkWe6riWbyUcJbSxQ4LdeqN6f3k1CTwqZ/ynVqoi\n",
              "C5E+dLVQMUFxd/XPCSCmGtsoytTzl540dlbRqFP+2KGE8W2A4giuUq7rr7h89FqGSFsW5eBxyjYq\n",
              "PGnvnqRMVBZ8hr6y+uNZlus9iES3vk7R+y7c3VKYOfn1bcqPN833CG89X9EWwedDs2DvLyAMJA25\n",
              "bFc6UzKq8RrHLLvinzw9XdfugjGGJuE6iT/7K8erDLe9bG7cW/9hBe9RT3z8HeGqDek4K8j+hfco\n",
              "dp6Rj6nhsNZwoqqGydgLfgdLG0QkXcFjkLFq1jydxg9c46F4wSQAd0QqiqRCB38mD9HRt8hSKi91\n",
              "5Ao27rdiUYJ//KsAJSKZn+VZcAY2dAPeVkMg1TORzo0nAJp1RYrRDidJLGrt6Q7BWKOdJB7pIDO4\n",
              "lOia5b8jBz9o/3NzCzdoPo2kFXcnOxkjcchl6cAeFYYGcpEOW2zs5KDGGBvK/cg5t/QtJmkc5w9x\n",
              "W7eDnCqrEPbV8efv4FxyUtq8igvYQ6Qy4+tbauC9GplX2+d59cxLlqYgJh8KDX2C1rnAvAD7GTHC\n",
              "t3vVifZ57hSEIPdpDw6bC94OOZ9Q3E5B76rP2xdEqfsc24yDfNt2sg0EYNYXjg5UmzboNk2QRT4E\n",
              "Hq1NvmxbknuKfWMZ05ysZInkZ5Um34awfzdXFTeFRYc2B/3AeuiwSuQxcbXzz0nx2mgJytIjHkZT\n",
              "72lCoUhA+xuOBnHMTEiKU+QzmTRWcaV4fM6EpvtSO0PNXM9SYTn22fPfuPnatHvD8ZkMwhDAvbHf\n",
              "Oi/X9YF7AavZuMprM7K+whcRrsLonPlxf+dLbbHzOez+xcZZchyn72nt8aDQR434+D/0AYZv5Npn\n",
              "2hrhSUqNfGBgAPP91FuL8hUpWGg3wsftmRLn5UqskDvk/AdWtv8E0G+bc2NY4nzobJ0uVykq3Oek\n",
              "RBLq6Kc1wLN2/ITm7KFqNCi7aMn7ZMfig6C97PX+RaZNmMIPMxhIHOPqMDDq/IkAkTwre3tgkOV4\n",
              "LC0br+ABQ0CMmhg3u8nMBHKOQ3yIAGyGncDavlgYu1LBvWc6hESo+q60f4bX56dHtQvUdy0L57rn\n",
              "NoUcEa0naExZp4fkPC0lT63mf+tyA737tD1cZhIL3pssTe+CHinRJmgG/KkQiiucACcyIYAAMqEA\n",
              "AABnQZokbEEf/rUqgAqYX5B/nmcAUBJYuIQlJLpQCUf+fyfuY6eyRnL/ip58c5GbD/H56Nf0U6I4\n",
              "8yzXFolE826XkxImxAsMth0xUSqats7VsnG+lwhWvZhZ5UpsTVHvlmr1kf/OgXhCLgAAABZBnkJ4\n",
              "h38AJQ5RgE7QAnNhZMakIPmBAAAAFgGeYXRDfwA0vWIejg6yt/kxgD4QfMAAAAAMAZ5jakN/AAAD\n",
              "ADjhAAAAFEGaaEmoQWiZTAgj//61KoAAAAppAAAADkGehkURLDv/AAADAChhAAAADAGepXRDfwAA\n",
              "AwA44QAAAAwBnqdqQ38AAAMAOOAAAAAUQZqsSahBbJlMCCP//rUqgAAACmgAAAAOQZ7KRRUsO/8A\n",
              "AAMAKGEAAAAMAZ7pdEN/AAADADjgAAAADAGe62pDfwAAAwA44AAAABRBmvBJqEFsmUwII//+tSqA\n",
              "AAAKaQAAAA5Bnw5FFSw7/wAAAwAoYQAAAAwBny10Q38AAAMAOOEAAAAMAZ8vakN/AAADADjgAAAA\n",
              "FEGbNEmoQWyZTAgj//61KoAAAApoAAAADkGfUkUVLDv/AAADAChhAAAADAGfcXRDfwAAAwA44AAA\n",
              "AAwBn3NqQ38AAAMAOOAAAAAUQZt4SahBbJlMCCP//rUqgAAACmkAAAAOQZ+WRRUsO/8AAAMAKGAA\n",
              "AAAMAZ+1dEN/AAADADjhAAAADAGft2pDfwAAAwA44QAAABRBm7xJqEFsmUwII//+tSqAAAAKaAAA\n",
              "AA5Bn9pFFSw7/wAAAwAoYQAAAAwBn/l0Q38AAAMAOOAAAAAMAZ/7akN/AAADADjhAAAAFEGb4Emo\n",
              "QWyZTAgj//61KoAAAAppAAAADkGeHkUVLDv/AAADAChgAAAADAGePXRDfwAAAwA44AAAAAwBnj9q\n",
              "Q38AAAMAOOEAAAAUQZokSahBbJlMCCP//rUqgAAACmgAAAAOQZ5CRRUsO/8AAAMAKGEAAAAMAZ5h\n",
              "dEN/AAADADjgAAAADAGeY2pDfwAAAwA44QAAABRBmmhJqEFsmUwII//+tSqAAAAKaQAAAA5BnoZF\n",
              "FSw7/wAAAwAoYQAAAAwBnqV0Q38AAAMAOOEAAAAMAZ6nakN/AAADADjgAAAAFEGarEmoQWyZTAgj\n",
              "//61KoAAAApoAAAADkGeykUVLDv/AAADAChhAAAADAGe6XRDfwAAAwA44AAAAAwBnutqQ38AAAMA\n",
              "OOAAAAAUQZrwSahBbJlMCCP//rUqgAAACmkAAAAOQZ8ORRUsO/8AAAMAKGEAAAAMAZ8tdEN/AAAD\n",
              "ADjhAAAADAGfL2pDfwAAAwA44AAAABRBmzRJqEFsmUwII//+tSqAAAAKaAAAAA5Bn1JFFSw7/wAA\n",
              "AwAoYQAAAAwBn3F0Q38AAAMAOOAAAAAMAZ9zakN/AAADADjgAAAAFEGbeEmoQWyZTAgj//61KoAA\n",
              "AAppAAAADkGflkUVLDv/AAADAChgAAAADAGftXRDfwAAAwA44QAAAAwBn7dqQ38AAAMAOOEAAAAU\n",
              "QZu8SahBbJlMCCP//rUqgAAACmgAAAAOQZ/aRRUsO/8AAAMAKGEAAAAMAZ/5dEN/AAADADjgAAAA\n",
              "DAGf+2pDfwAAAwA44QAAABRBm+BJqEFsmUwII//+tSqAAAAKaQAAAA5Bnh5FFSw7/wAAAwAoYAAA\n",
              "AAwBnj10Q38AAAMAOOAAAAAMAZ4/akN/AAADADjhAAAAFEGaJEmoQWyZTAgj//61KoAAAApoAAAA\n",
              "DkGeQkUVLDv/AAADAChhAAAADAGeYXRDfwAAAwA44AAAAAwBnmNqQ38AAAMAOOEAAAAUQZpoSahB\n",
              "bJlMCCP//rUqgAAACmkAAAAOQZ6GRRUsO/8AAAMAKGEAAAAMAZ6ldEN/AAADADjhAAAADAGep2pD\n",
              "fwAAAwA44AAAABRBmqxJqEFsmUwII//+tSqAAAAKaAAAAA5BnspFFSw7/wAAAwAoYQAAAAwBnul0\n",
              "Q38AAAMAOOAAAAAMAZ7rakN/AAADADjgAAAAFEGa8EmoQWyZTAgj//61KoAAAAppAAAADkGfDkUV\n",
              "LDv/AAADAChhAAAADAGfLXRDfwAAAwA44QAAAAwBny9qQ38AAAMAOOAAAAAUQZs0SahBbJlMCCP/\n",
              "/rUqgAAACmgAAAAOQZ9SRRUsO/8AAAMAKGEAAAAMAZ9xdEN/AAADADjgAAAADAGfc2pDfwAAAwA4\n",
              "4AAAABRBm3hJqEFsmUwII//+tSqAAAAKaQAAAA5Bn5ZFFSw7/wAAAwAoYAAAAAwBn7V0Q38AAAMA\n",
              "OOEAAAAMAZ+3akN/AAADADjhAAAAFUGbvEmoQWyZTAgh//6qVQAAAwAU0AAAAA5Bn9pFFSw7/wAA\n",
              "AwAoYQAAAAwBn/l0Q38AAAMAOOAAAAAMAZ/7akN/AAADADjhAAAAFUGb4EmoQWyZTAgh//6qVQAA\n",
              "AwAU0QAAAA5Bnh5FFSw7/wAAAwAoYAAAAAwBnj10Q38AAAMAOOAAAAAMAZ4/akN/AAADADjhAAAA\n",
              "FUGaJEmoQWyZTAhv//6nhAAAAwCggAAAAA5BnkJFFSw7/wAAAwAoYQAAAAwBnmF0Q38AAAMAOOAA\n",
              "AAAMAZ5jakN/AAADADjhAAAH621vb3YAAABsbXZoZAAAAAAAAAAAAAAAAAAAA+gAACd0AAEAAAEA\n",
              "AAAAAAAAAAAAAAABAAAAAAAAAAAAAAAAAAAAAQAAAAAAAAAAAAAAAAAAQAAAAAAAAAAAAAAAAAAA\n",
              "AAAAAAAAAAAAAAAAAAAAAAIAAAcVdHJhawAAAFx0a2hkAAAAAwAAAAAAAAAAAAAAAQAAAAAAACd0\n",
              "AAAAAAAAAAAAAAAAAAAAAAABAAAAAAAAAAAAAAAAAAAAAQAAAAAAAAAAAAAAAAAAQAAAAAFoAAAB\n",
              "aAAAAAAAJGVkdHMAAAAcZWxzdAAAAAAAAAABAAAndAAACAAAAQAAAAAGjW1kaWEAAAAgbWRoZAAA\n",
              "AAAAAAAAAAAAAAAAKAAAAZQAVcQAAAAAAC1oZGxyAAAAAAAAAAB2aWRlAAAAAAAAAAAAAAAAVmlk\n",
              "ZW9IYW5kbGVyAAAABjhtaW5mAAAAFHZtaGQAAAABAAAAAAAAAAAAAAAkZGluZgAAABxkcmVmAAAA\n",
              "AAAAAAEAAAAMdXJsIAAAAAEAAAX4c3RibAAAALRzdHNkAAAAAAAAAAEAAACkYXZjMQAAAAAAAAAB\n",
              "AAAAAAAAAAAAAAAAAAAAAAFoAWgASAAAAEgAAAAAAAAAAQAAAAAAAAAAAAAAAAAAAAAAAAAAAAAA\n",
              "AAAAAAAAAAAAABj//wAAADJhdmNDAWQAFf/hABlnZAAVrNlBcL+WWEAAAAMAQAAABQPFi2WAAQAG\n",
              "aOvjyyLAAAAAHHV1aWRraEDyXyRPxbo5pRvPAyPzAAAAAAAAABhzdHRzAAAAAAAAAAEAAABlAAAE\n",
              "AAAAABRzdHNzAAAAAAAAAAEAAAABAAADOGN0dHMAAAAAAAAAZQAAAAEAAAgAAAAAAQAAFAAAAAAB\n",
              "AAAIAAAAAAEAAAAAAAAAAQAABAAAAAABAAAUAAAAAAEAAAgAAAAAAQAAAAAAAAABAAAEAAAAAAEA\n",
              "ABQAAAAAAQAACAAAAAABAAAAAAAAAAEAAAQAAAAAAQAAFAAAAAABAAAIAAAAAAEAAAAAAAAAAQAA\n",
              "BAAAAAABAAAUAAAAAAEAAAgAAAAAAQAAAAAAAAABAAAEAAAAAAEAABQAAAAAAQAACAAAAAABAAAA\n",
              "AAAAAAEAAAQAAAAAAQAAFAAAAAABAAAIAAAAAAEAAAAAAAAAAQAABAAAAAABAAAUAAAAAAEAAAgA\n",
              "AAAAAQAAAAAAAAABAAAEAAAAAAEAABQAAAAAAQAACAAAAAABAAAAAAAAAAEAAAQAAAAAAQAAFAAA\n",
              "AAABAAAIAAAAAAEAAAAAAAAAAQAABAAAAAABAAAUAAAAAAEAAAgAAAAAAQAAAAAAAAABAAAEAAAA\n",
              "AAEAABQAAAAAAQAACAAAAAABAAAAAAAAAAEAAAQAAAAAAQAAFAAAAAABAAAIAAAAAAEAAAAAAAAA\n",
              "AQAABAAAAAABAAAUAAAAAAEAAAgAAAAAAQAAAAAAAAABAAAEAAAAAAEAABQAAAAAAQAACAAAAAAB\n",
              "AAAAAAAAAAEAAAQAAAAAAQAAFAAAAAABAAAIAAAAAAEAAAAAAAAAAQAABAAAAAABAAAUAAAAAAEA\n",
              "AAgAAAAAAQAAAAAAAAABAAAEAAAAAAEAABQAAAAAAQAACAAAAAABAAAAAAAAAAEAAAQAAAAAAQAA\n",
              "FAAAAAABAAAIAAAAAAEAAAAAAAAAAQAABAAAAAABAAAUAAAAAAEAAAgAAAAAAQAAAAAAAAABAAAE\n",
              "AAAAAAEAABQAAAAAAQAACAAAAAABAAAAAAAAAAEAAAQAAAAAAQAAFAAAAAABAAAIAAAAAAEAAAAA\n",
              "AAAAAQAABAAAAAABAAAUAAAAAAEAAAgAAAAAAQAAAAAAAAABAAAEAAAAAAEAABQAAAAAAQAACAAA\n",
              "AAABAAAAAAAAAAEAAAQAAAAAAQAAFAAAAAABAAAIAAAAAAEAAAAAAAAAAQAABAAAAAAcc3RzYwAA\n",
              "AAAAAAABAAAAAQAAAGUAAAABAAABqHN0c3oAAAAAAAAAAAAAAGUAAAxLAAAAawAAABoAAAAaAAAA\n",
              "EAAAABgAAAASAAAAEAAAABAAAAAYAAAAEgAAABAAAAAQAAAAGAAAABIAAAAQAAAAEAAAABgAAAAS\n",
              "AAAAEAAAABAAAAAYAAAAEgAAABAAAAAQAAAAGAAAABIAAAAQAAAAEAAAABgAAAASAAAAEAAAABAA\n",
              "AAAYAAAAEgAAABAAAAAQAAAAGAAAABIAAAAQAAAAEAAAABgAAAASAAAAEAAAABAAAAAYAAAAEgAA\n",
              "ABAAAAAQAAAAGAAAABIAAAAQAAAAEAAAABgAAAASAAAAEAAAABAAAAAYAAAAEgAAABAAAAAQAAAA\n",
              "GAAAABIAAAAQAAAAEAAAABgAAAASAAAAEAAAABAAAAAYAAAAEgAAABAAAAAQAAAAGAAAABIAAAAQ\n",
              "AAAAEAAAABgAAAASAAAAEAAAABAAAAAYAAAAEgAAABAAAAAQAAAAGAAAABIAAAAQAAAAEAAAABkA\n",
              "AAASAAAAEAAAABAAAAAZAAAAEgAAABAAAAAQAAAAGQAAABIAAAAQAAAAEAAAABRzdGNvAAAAAAAA\n",
              "AAEAAAAsAAAAYnVkdGEAAABabWV0YQAAAAAAAAAhaGRscgAAAAAAAAAAbWRpcmFwcGwAAAAAAAAA\n",
              "AAAAAAAtaWxzdAAAACWpdG9vAAAAHWRhdGEAAAABAAAAAExhdmY1Ny44My4xMDA=\n",
              "\">\n",
              "  Your browser does not support the video tag.\n",
              "</video>"
            ],
            "text/plain": [
              "<matplotlib.animation.FuncAnimation at 0x7fb8678fdf90>"
            ]
          },
          "metadata": {},
          "execution_count": 154
        }
      ]
    },
    {
      "cell_type": "code",
      "metadata": {
        "colab": {
          "base_uri": "https://localhost:8080/",
          "height": 248
        },
        "id": "6Q8Dr8kZ0QVk",
        "outputId": "0cd472df-1231-4a11-b1ce-32eecb85d9e9"
      },
      "source": [
        "showGen(AList[0])"
      ],
      "execution_count": 129,
      "outputs": [
        {
          "output_type": "display_data",
          "data": {
            "image/png": "[encoded data removed]",
            "text/plain": [
              "<Figure size 432x288 with 1 Axes>"
            ]
          },
          "metadata": {
            "needs_background": "light"
          }
        }
      ]
    }
  ]
}